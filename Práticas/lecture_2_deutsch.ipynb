{
 "cells": [
  {
   "cell_type": "markdown",
   "id": "advance-helmet",
   "metadata": {},
   "source": [
    "##### Concurrency 2023/2024 - Computer Science\n",
    "# Lecture 2 - Deutsch Algorithm\n",
    "\n",
    "1. [Functions and libraries](#review)\n",
    "2. [Deutsch's Algorithm](#Deutsch)\n",
    "3. [Deutsch-Jozsa Algorithm](#Deutsch-jozsa)"
   ]
  },
  {
   "cell_type": "markdown",
   "id": "2572dc42",
   "metadata": {},
   "source": [
    "### 1. Function and libraries"
   ]
  },
  {
   "cell_type": "code",
   "execution_count": 2,
   "id": "6869ae59",
   "metadata": {},
   "outputs": [],
   "source": [
    "from qiskit import *\n",
    "from qiskit.primitives import Sampler\n",
    "from qiskit.quantum_info import Statevector\n",
    "from qiskit.visualization import plot_histogram\n",
    "import numpy as np\n",
    "\n",
    "def execute_circuit(qc, shots=1024, binary=False, mode=\"sampler\", reverse=False):\n",
    "    \n",
    "    if reverse:\n",
    "        qc = qc.reverse_bits()\n",
    "        \n",
    "    if mode == \"sampler\":\n",
    "    \n",
    "        options = {\"shots\": shots}\n",
    "\n",
    "        sampler = Sampler(options=options)\n",
    "        \n",
    "        job = sampler.run(qc)\n",
    "        result = job.result()  \n",
    "        \n",
    "        probability_dictionary = result.quasi_dists[0]\n",
    "\n",
    "        if binary:\n",
    "            return probability_dictionary.binary_probabilities()\n",
    "        else:\n",
    "            return probability_dictionary\n",
    "    \n",
    "    else:\n",
    "        #remember that for statevector measurements are not needed\n",
    "        sv = Statevector.from_instruction(qc)\n",
    "        return sv\n"
   ]
  },
  {
   "cell_type": "markdown",
   "id": "decent-platform",
   "metadata": {},
   "source": [
    "## 2. Deutsch's algorithm <a id='deutsch'></a>\n",
    "\n",
    "Let's consider a Boolean function $f:\\{0,1\\} \\rightarrow \\{0,1\\}$ that can either be balanced or constant.\n",
    "\n",
    "- **Constant**: its output is always 0 or always 1\n",
    "- **Balanced**: outputs 0 for one input and 1 for the other\n",
    "\n",
    "\n",
    "<p align=\"center\">\n",
    "  <img width=\"600\" height=\"300\" src=\"images/balanced_vs_constant.png\">\n",
    "</p>\n"
   ]
  },
  {
   "cell_type": "markdown",
   "id": "elder-priority",
   "metadata": {},
   "source": [
    "<p align=\"center\">\n",
    "  <img width=\"600\" height=\"200\" src=\"images/deutsch.png\">\n",
    "</p>\n",
    "\n",
    "$U_f$ is our function, usually seen as an oracle, or a black-box function that we want to find if it's balanced or constant"
   ]
  },
  {
   "cell_type": "markdown",
   "id": "fac95a3c",
   "metadata": {},
   "source": [
    "* If we have a **constant** function we measure the state $|0\\rangle$ with certainty\n",
    "* if we have **balanced** function we measure the state $|1\\rangle$ with probability 1 !! \n",
    "\n",
    "##### why ? Let's go step by step"
   ]
  },
  {
   "cell_type": "markdown",
   "id": "77432988",
   "metadata": {},
   "source": [
    "1) Initial state - $|00\\rangle$\n",
    "2) Create uniform superposition in the first qubit ------> $(H \\otimes I) |00\\rangle $\n",
    "    $$ \\frac{1}{\\sqrt{2}}( |0\\rangle + |1\\rangle ) |0\\rangle = \\frac{1}{\\sqrt{2}}( |00\\rangle + |10\\rangle)$$\n",
    "3) Apply $x$ gate to the second qubit - $(I \\otimes X) \\frac{1}{\\sqrt{2}}( |00\\rangle + |10\\rangle)$\n",
    "   $$ \\frac{1}{\\sqrt{2}}( |01\\rangle + |11\\rangle) $$\n",
    "4) Create uniform superposition in the second qubit (attention to the signs !) ----->  $(I \\otimes H) \\frac{1}{\\sqrt{2}}( |01\\rangle + |11\\rangle) $\n",
    "   \n",
    "$$H = \n",
    "\\frac{1}{\\sqrt{2}}\\begin{pmatrix}\n",
    "1 & 1\\\\\n",
    "1 & -1\n",
    "\\end{pmatrix}\n",
    "$$\n",
    "\n",
    "$$ \\frac{1}{\\sqrt{2}}( |0\\rangle \\frac{1}{\\sqrt{2}}( |0\\rangle - |1\\rangle ) + |1\\rangle \\frac{1}{\\sqrt{2}}( |0\\rangle - |1\\rangle )) = \\frac{1}{2}(|00\\rangle - |01\\rangle + |10\\rangle - |11\\rangle)$$\n",
    "\n",
    "5) Apply $U_f = I \\otimes I$ ----> $(I \\otimes I)(\\frac{1}{2}(|00\\rangle - |01\\rangle + |10\\rangle - |11\\rangle))$\n",
    "\n",
    "    $$ \\frac{1}{2}(|00\\rangle - |01\\rangle + |10\\rangle - |11\\rangle))$$\n",
    "\n",
    "6) Apply hadamard to the first qubit ----> $(H \\otimes I) \\frac{1}{2}(|00\\rangle - |01\\rangle + |10\\rangle - |11\\rangle))$\n",
    "\n",
    "    $$\\frac{1}{2}\\left[\\frac{1}{\\sqrt{2}}( |0\\rangle + |1\\rangle ) |0\\rangle - \\frac{1}{\\sqrt{2}}( |0\\rangle + |1\\rangle ) |1\\rangle + \\frac{1}{\\sqrt{2}}( |0\\rangle - |1\\rangle ) |0\\rangle - \\frac{1}{\\sqrt{2}}( |0\\rangle - |1\\rangle ) |1\\rangle \\right] $$\n",
    "\n",
    "    $$\\frac{1}{2\\sqrt{2}}\\left[|00\\rangle + |10\\rangle - |01\\rangle -|11\\rangle +|00\\rangle -|10\\rangle - |01\\rangle + |11\\rangle \\right] $$\n",
    "\n",
    "    $$\\frac{1}{2\\sqrt{2}} \\left[2|00\\rangle - 2|01\\rangle \\right]$$\n",
    "\n",
    "Thus, we can see that by applying the hadamard in the first qubit after the function , we created interference, leaving only states with first qubit=0. We have a constant function. \n",
    "\n",
    "If we repeat the process for a balanced function, we will be measuring state $|1\\rangle$ in the first qubit instead. \n"
   ]
  },
  {
   "cell_type": "markdown",
   "id": "115435d0",
   "metadata": {},
   "source": [
    "##### <span style=\"color: red;\">Exercise 1:</span> - Suppose the black-box function (1). Implement the full deutsch circuit. "
   ]
  },
  {
   "cell_type": "code",
   "execution_count": 3,
   "id": "heated-there",
   "metadata": {},
   "outputs": [],
   "source": [
    "def U_f(n_qubits=1):\n",
    "\n",
    "    qr_input = QuantumRegister(n_qubits, \"input\")\n",
    "    qr_ancilla = QuantumRegister(1, \"ancilla\")\n",
    "\n",
    "    qc = QuantumCircuit(qr_input, qr_ancilla)\n",
    "    \n",
    "    return qc\n",
    "\n",
    "\n",
    "def deutsch(U_f=None, n_qubits=1):\n",
    "\n",
    "    qr_input = QuantumRegister(n_qubits, \"input\")\n",
    "    qr_ancilla = QuantumRegister(1, \"ancilla\")\n",
    "\n",
    "    cr = ClassicalRegister(n_qubits, \"measure\")\n",
    "\n",
    "    qc = QuantumCircuit(qr_input, qr_ancilla, cr)\n",
    "\n",
    "    # first qubit\n",
    "    qc.h(qr_input)\n",
    "\n",
    "    #ancilla\n",
    "    qc.x(qr_ancilla)\n",
    "    qc.h(qr_ancilla)\n",
    "\n",
    "    qc.barrier()\n",
    "\n",
    "    #compose circuit with U_f\n",
    "    qc = qc.compose(U_f)\n",
    "\n",
    "    qc.barrier()\n",
    "\n",
    "    #interference first qubit\n",
    "    qc.h(qr_input)\n",
    "\n",
    "    qc.barrier()\n",
    "\n",
    "    #measure the first qubit \n",
    "    qc.measure(qr_input, cr)\n",
    "\n",
    "    return qc"
   ]
  },
  {
   "cell_type": "markdown",
   "id": "7a9a951b",
   "metadata": {},
   "source": [
    "Create the deutsch circuit"
   ]
  },
  {
   "cell_type": "code",
   "execution_count": 4,
   "id": "d44cf4e5",
   "metadata": {},
   "outputs": [
    {
     "data": {
      "image/png": "[encoded data removed]",
      "text/plain": [
       "<Figure size 795.686x284.278 with 1 Axes>"
      ]
     },
     "execution_count": 4,
     "metadata": {},
     "output_type": "execute_result"
    }
   ],
   "source": [
    "u_f = U_f()\n",
    "qc = deutsch(U_f=u_f)\n",
    "qc.draw(output=\"mpl\")"
   ]
  },
  {
   "cell_type": "markdown",
   "id": "9208bb68",
   "metadata": {},
   "source": [
    "Execute the circuit and see the result"
   ]
  },
  {
   "cell_type": "code",
   "execution_count": 5,
   "id": "b4a1b5be",
   "metadata": {},
   "outputs": [
    {
     "data": {
      "image/png": "[encoded data removed]",
      "text/plain": [
       "<Figure size 700x500 with 1 Axes>"
      ]
     },
     "execution_count": 5,
     "metadata": {},
     "output_type": "execute_result"
    }
   ],
   "source": [
    "probs = execute_circuit(qc, shots=100000, binary=True, mode=\"sampler\")\n",
    "plot_histogram(probs)"
   ]
  },
  {
   "cell_type": "markdown",
   "id": "a4a34ad2",
   "metadata": {},
   "source": [
    "##### <span style=\"color: red;\">Exercise 2:</span> - Modify the oracle to support every balanced/constant function. "
   ]
  },
  {
   "cell_type": "code",
   "execution_count": 8,
   "id": "42e1ca07",
   "metadata": {},
   "outputs": [
    {
     "data": {
      "image/png": "[encoded data removed]",
      "text/plain": [
       "<Figure size 1046.52x284.278 with 1 Axes>"
      ]
     },
     "execution_count": 8,
     "metadata": {},
     "output_type": "execute_result"
    }
   ],
   "source": [
    "def U_f(n_qubits=1, function=\"1\"):\n",
    "\n",
    "    qr_input = QuantumRegister(n_qubits, \"input\")\n",
    "    qr_ancilla = QuantumRegister(1, \"ancilla\")\n",
    "\n",
    "    qc = QuantumCircuit(qr_input, qr_ancilla)\n",
    "\n",
    "    if function == \"2\":\n",
    "        qc.x(qr_ancilla)\n",
    "    elif function == \"3\":\n",
    "        qc.cx(qr_input[0], qr_ancilla)\n",
    "    elif function == \"4\":\n",
    "        qc.x(qr_input)\n",
    "        qc.cx(qr_input[0], qr_ancilla)\n",
    "        qc.x(qr_input)\n",
    "\n",
    "    return qc   \n",
    "\n",
    "u_f = U_f(n_qubits=1, function=\"4\")\n",
    "\n",
    "qc = deutsch(U_f=u_f)\n",
    "qc.draw(output=\"mpl\")"
   ]
  },
  {
   "cell_type": "code",
   "execution_count": 6,
   "id": "a193f394",
   "metadata": {},
   "outputs": [
    {
     "data": {
      "image/png": "[encoded data removed]",
      "text/plain": [
       "<Figure size 700x500 with 1 Axes>"
      ]
     },
     "execution_count": 6,
     "metadata": {},
     "output_type": "execute_result"
    }
   ],
   "source": [
    "probs = execute_circuit(qc, shots=1000, binary=True, mode=\"sampler\")\n",
    "plot_histogram(probs)"
   ]
  },
  {
   "cell_type": "markdown",
   "id": "b2096c6b",
   "metadata": {},
   "source": [
    "## 4. Deutsch-Jozsa algorithm <a id='deutsch-josza'></a>"
   ]
  },
  {
   "cell_type": "markdown",
   "id": "8528e49a",
   "metadata": {},
   "source": [
    "Deutsch-Josza algorithm is the generalization of the previous algorithm for boolean functions for $n$ bit strings rather than single bit string inputs.\n",
    "\n",
    "<p align=\"center\">\n",
    "  <img width=\"700\" height=\"200\" src=\"images/dj.png\">\n",
    "</p>\n",
    "\n",
    "The results for the single input case also remain true in this setting with minor differences:\n",
    "\n",
    "* Hadamard uniform superposition over all qubits instead of a single qubit\n",
    "* We will measure all input qubits instead of the single qubit\n",
    "* $P(000 \\dots 0)=0$ if the function is **constant**\n",
    "* $P(111 \\dots 1)=1$ if the function is **balanced**\n"
   ]
  },
  {
   "cell_type": "markdown",
   "id": "0f93ee53",
   "metadata": {},
   "source": [
    "##### <span style=\"color: red;\">Exercise 3:</span> - write the Deutsch-Josza algorithm"
   ]
  },
  {
   "cell_type": "code",
   "execution_count": 7,
   "id": "592878bd",
   "metadata": {},
   "outputs": [
    {
     "ename": "SyntaxError",
     "evalue": "invalid syntax (4197482601.py, line 3)",
     "output_type": "error",
     "traceback": [
      "\u001b[1;36m  Cell \u001b[1;32mIn[7], line 3\u001b[1;36m\u001b[0m\n\u001b[1;33m    cr =\u001b[0m\n\u001b[1;37m        ^\u001b[0m\n\u001b[1;31mSyntaxError\u001b[0m\u001b[1;31m:\u001b[0m invalid syntax\n"
     ]
    }
   ],
   "source": [
    "def deutsch_jozsa(U_f=None, n_qubits=2):\n",
    "\n",
    "    cr =\n",
    "    qr = \n",
    "    ancilla = \n",
    "    qc =\n",
    "\n",
    "    # qubits input\n",
    "\n",
    "    #ancilla\n",
    "\n",
    "    qc.barrier()\n",
    "    \n",
    "    #compose circuit with U_f\n",
    "\n",
    "    qc.barrier()\n",
    "    \n",
    "    #interference input qubits\n",
    "\n",
    "    #measure the input qubits \n",
    "\n",
    "    return qc"
   ]
  },
  {
   "cell_type": "markdown",
   "id": "86c82481",
   "metadata": {},
   "source": [
    "##### <span style=\"color: red;\">Exercise 4:</span> - Consider the following 3-qubit input state truth table:\n",
    "\n",
    "| Input | Output |\n",
    "|-------|--------|\n",
    "| 000   | 1      |\n",
    "| 001   | 1      |\n",
    "| 010   | 1      |\n",
    "| 011   | 1      |\n",
    "| 100   | 0      |\n",
    "| 101   | 0      |\n",
    "| 110   | 0      |\n",
    "| 111   | 0      |\n",
    "\n",
    "How may we implement the function? "
   ]
  },
  {
   "cell_type": "code",
   "execution_count": null,
   "id": "772bbf9f",
   "metadata": {},
   "outputs": [],
   "source": [
    "def U_f(n_qubits=2):\n",
    "\n",
    "    #qc = \n",
    "\n",
    "    return qc"
   ]
  },
  {
   "cell_type": "code",
   "execution_count": null,
   "id": "aeaffa92",
   "metadata": {},
   "outputs": [],
   "source": [
    "#execute_circuit"
   ]
  },
  {
   "cell_type": "markdown",
   "id": "aa361f48",
   "metadata": {},
   "source": [
    "##### <span style=\"color: red;\">Exercise 5:</span> - Implement a quantum circuit that performs the XOR function"
   ]
  },
  {
   "cell_type": "markdown",
   "id": "d1c064d9",
   "metadata": {},
   "source": [
    "Truth table for the XOr logic gate\n",
    "|x_0|x_1|x_2|        \n",
    "|-|-|-|\n",
    "|0|0|0|\n",
    "|0|1|1|\n",
    "|1|0|1|\n",
    "|1|1|0|"
   ]
  },
  {
   "cell_type": "code",
   "execution_count": null,
   "id": "583d84e9",
   "metadata": {},
   "outputs": [],
   "source": [
    "def xor_function(n_qubits=3):\n",
    "\n",
    "    qc = QuantumCircuit(n_qubits)\n",
    "\n",
    "    #state |10>\n",
    "\n",
    "\n",
    "    #state |01>\n",
    "\n",
    "    return qc"
   ]
  },
  {
   "cell_type": "code",
   "execution_count": null,
   "id": "789c9520",
   "metadata": {},
   "outputs": [],
   "source": [
    "xor = xor_function()\n",
    "xor.draw(output=\"mpl\")"
   ]
  },
  {
   "cell_type": "markdown",
   "id": "b453734d",
   "metadata": {},
   "source": [
    "Suppose a **classical** algorithm that finds if the function is actually balanced or constant. The algorithm has to run through all the four possible combinations. In average the algorithm has to run through half the combinations in order to discover if the function is balanced .\n",
    "\n",
    "In general, if we have $n$ bit string , we have to check $\\frac{2^n}{2} + 1$. \n",
    "\n",
    "The quantum algorithm from Deutsch promises to find if the function is balanced or constant in a single step! \n",
    "\n",
    "But how ? We have seen that simply acting in superposition does not solve the problem because we will need to run the quantum circuit several times do the stochastic nature! \n",
    "\n",
    "The novel trick of the algorithm is actually collapse the superposition into a deterministic state of interest using INTERFERENCE ! Not possible in classical computing !"
   ]
  },
  {
   "cell_type": "markdown",
   "id": "d1019120",
   "metadata": {},
   "source": [
    "##### <span style=\"color: red;\">Exercise 6:</span> - Consider the following function:\n",
    "\n",
    "$$f(x) = \\begin{cases} 1 & \\text{if } x=11111 \\\\ 0 & \\text{otherwise} \\end{cases}$$\n",
    "\n"
   ]
  },
  {
   "cell_type": "code",
   "execution_count": null,
   "id": "b5f92a70",
   "metadata": {},
   "outputs": [],
   "source": [
    "def mcx(n_qubits=5):\n",
    "\n",
    "    qr = \n",
    "    ancilla = \n",
    "    cr = \n",
    "    qc = \n",
    "\n",
    "    return qc"
   ]
  },
  {
   "cell_type": "code",
   "execution_count": null,
   "id": "311041df",
   "metadata": {},
   "outputs": [],
   "source": [
    "uf = mcx()\n",
    "uf.draw(output=\"mpl\")"
   ]
  },
  {
   "cell_type": "code",
   "execution_count": null,
   "id": "3cbb6588",
   "metadata": {},
   "outputs": [],
   "source": [
    "qc = deutsch_jozsa(U_f=uf,n_qubits=5)\n",
    "\n",
    "probs = execute_circuit(qc, shots=10000, binary=True, mode=\"sampler\")\n",
    "plot_histogram(probs)"
   ]
  }
 ],
 "metadata": {
  "interpreter": {
   "hash": "62314c999a2395b70c6666201aadb026cfae52075e045b8f587202e06e575832"
  },
  "kernelspec": {
   "display_name": "Python 3 (ipykernel)",
   "language": "python",
   "name": "python3"
  },
  "language_info": {
   "codemirror_mode": {
    "name": "ipython",
    "version": 3
   },
   "file_extension": ".py",
   "mimetype": "text/x-python",
   "name": "python",
   "nbconvert_exporter": "python",
   "pygments_lexer": "ipython3",
   "version": "3.11.5"
  }
 },
 "nbformat": 4,
 "nbformat_minor": 5
}
